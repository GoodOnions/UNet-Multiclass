{
 "cells": [
  {
   "cell_type": "markdown",
   "metadata": {},
   "source": [
    "### Generation of the dataset"
   ]
  },
  {
   "cell_type": "code",
   "execution_count": 5,
   "outputs": [
    {
     "name": "stdout",
     "output_type": "stream",
     "text": [
      "Elapsed time: 33.69502902030945\n",
      "Elapsed time: 6.811520099639893\n",
      "Elapsed time: 2.67533278465271\n"
     ]
    }
   ],
   "source": [
    "from generate_frames import FrameGenerator\n",
    "import os\n",
    "\n",
    "training_dir='../datasets/superMario/train'\n",
    "validation_dir='../datasets/superMario/val'\n",
    "test_dir='../datasets/superMario/test'\n",
    "\n",
    "# Generate dataset\n",
    "def generateTrainDataSet(n_sample=2000,split_val=0.15,split_test=0.05, cores=4): #Fix multi core\n",
    "    assert 0<= split_val < 1, 'error in split definition'\n",
    "    assert 0<= split_test < 1, 'error in split definition'\n",
    "\n",
    "    n_train = int(n_sample*(1-(split_test+split_val)))\n",
    "    n_val = int(n_sample*split_val)\n",
    "    n_test = int(n_sample*split_test)\n",
    "\n",
    "    os.mkdir('../datasets/SuperMario')\n",
    "    os.mkdir(training_dir)\n",
    "    os.mkdir(validation_dir)\n",
    "    os.mkdir(test_dir)\n",
    "\n",
    "    framegen = FrameGenerator(cores=cores)\n",
    "    framegen.GenerateDataset(n_train,dir=training_dir)\n",
    "    framegen.GenerateDataset(n_val,dir=validation_dir)\n",
    "    framegen.GenerateDataset(n_test,dir=test_dir)\n",
    "\n",
    "\n",
    "if not os.path.isdir('../datasets/SuperMario'):\n",
    "    generateTrainDataSet()"
   ],
   "metadata": {
    "collapsed": false
   }
  }
 ],
 "metadata": {
  "kernelspec": {
   "display_name": "Python 3",
   "language": "python",
   "name": "python3"
  },
  "language_info": {
   "codemirror_mode": {
    "name": "ipython",
    "version": 3
   },
   "file_extension": ".py",
   "mimetype": "text/x-python",
   "name": "python",
   "nbconvert_exporter": "python",
   "pygments_lexer": "ipython3",
   "version": "3.9.13"
  }
 },
 "nbformat": 4,
 "nbformat_minor": 2
}
